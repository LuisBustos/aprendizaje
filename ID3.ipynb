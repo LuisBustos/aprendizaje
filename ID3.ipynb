""" Programa que implenta el algoritmo ID3"""
