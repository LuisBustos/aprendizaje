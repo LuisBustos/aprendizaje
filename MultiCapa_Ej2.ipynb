{
 "cells": [
  {
   "cell_type": "markdown",
   "metadata": {},
   "source": [
    "# BackPropagation. \n",
    "# Ejercicio 2\n",
    "## Realizado por:\n",
    "    - Bustos Rámírez Luis Enrique\n",
    "    - Vilchiz Oropeza Luis Alberto"
   ]
  },
  {
   "cell_type": "code",
   "execution_count": 157,
   "metadata": {},
   "outputs": [],
   "source": [
    "import numpy as np\n",
    "import math\n",
    "from matplotlib import pyplot\n",
    "from random import randrange"
   ]
  },
  {
   "cell_type": "markdown",
   "metadata": {},
   "source": [
    "## Definición de funciones"
   ]
  },
  {
   "cell_type": "code",
   "execution_count": 158,
   "metadata": {},
   "outputs": [],
   "source": [
    "def logSigmoid(a):\n",
    "    b = 1/(1+math.exp(-a))\n",
    "    return b"
   ]
  },
  {
   "cell_type": "code",
   "execution_count": 159,
   "metadata": {},
   "outputs": [],
   "source": [
    "def purelin(a):\n",
    "    if a < 0:\n",
    "        b = 0\n",
    "    else:\n",
    "        b = a\n",
    "    return b"
   ]
  },
  {
   "cell_type": "code",
   "execution_count": 160,
   "metadata": {},
   "outputs": [],
   "source": [
    "def g(x):\n",
    "    return 1+math.sin((math.pi/4)*x)"
   ]
  },
  {
   "cell_type": "code",
   "execution_count": 161,
   "metadata": {},
   "outputs": [],
   "source": [
    "#Primera derivada\n",
    "def f1(a):\n",
    "    return (1-a)*(a)"
   ]
  },
  {
   "cell_type": "code",
   "execution_count": 162,
   "metadata": {},
   "outputs": [],
   "source": [
    "#Segunda derivada\n",
    "def f2(x):\n",
    "    return 1"
   ]
  },
  {
   "cell_type": "code",
   "execution_count": 163,
   "metadata": {},
   "outputs": [],
   "source": [
    "def aleatorio():\n",
    "    return np.random.randint(-50, 50) * 0.01"
   ]
  },
  {
   "cell_type": "code",
   "execution_count": 164,
   "metadata": {},
   "outputs": [],
   "source": [
    "def main():\n",
    "    p = randrange(-2,2, 1)\n",
    "    w1_0 = np.matrix([[aleatorio()],[aleatorio()]])\n",
    "    b1_0 = np.matrix([[aleatorio()],[aleatorio()]])\n",
    "    w2_0 = np.matrix([aleatorio(),aleatorio()])\n",
    "    b2_0 = aleatorio()\n",
    "    u = w1_0*p + b1_0\n",
    "    a1 = np.matrix([[logSigmoid(u[0])],[logSigmoid(u[1])]])\n",
    "    u = w2_0 * a1 + b2_0\n",
    "    a2 = purelin(u)\n",
    "    e = g(p) - a2\n",
    "    s2 = (-2)*f2(1) * e\n",
    "    u = np.matrix([[f1(a1.item(0)),0],[0,f1(a1.item(1))]])\n",
    "    s1 = u * w2_0.T * s2\n",
    "    w2_1 = w2_0 - alpha*s2*a1.T\n",
    "    b2_1 = b2_0 - alpha*s2\n",
    "    w1_1 = w1_0 - alpha*s1*p\n",
    "    b1_1 = b1_0 - alpha*s1\n",
    "    salida = np.zeros((1,20))\n",
    "    contador = 0\n",
    "    p = -2\n",
    "    w1_0 = w1_1\n",
    "    b1_0 = b1_1\n",
    "    w2_0 = w2_1\n",
    "    b2_0 = b2_1\n",
    "    while(contador < 20):   \n",
    "        u = w1_0*p + b1_0\n",
    "        a1 = np.matrix([[logSigmoid(u[0])],[logSigmoid(u[1])]])\n",
    "        u = w2_0 * a1 + b2_0\n",
    "        a2 = purelin(u)\n",
    "        p = p + 0.2\n",
    "        salida.itemset(contador,a2)\n",
    "        if(contador < 20):\n",
    "            contador = contador + 1\n",
    "    p = randrange(-2,2, 1)\n",
    "    x = np.arange(-2, 2.0, 0.2)\n",
    "    y =[g(i) for i in x ]\n",
    "    pyplot.plot(x, y,'-o')\n",
    "    pyplot.title('Original')\n",
    "    pyplot.show()\n",
    "    x = np.arange(-2, 2.0, 0.2)\n",
    "    pyplot.plot(salida[0,:], y, '-o')\n",
    "    pyplot.title('Iteracion '+str(1))\n",
    "    pyplot.show()\n",
    "    u = w1_0*p + b1_0\n",
    "    a1 = np.matrix([[logSigmoid(u[0])],[logSigmoid(u[1])]])\n",
    "    u = w2_0 * a1 + b2_0\n",
    "    a2 = purelin(u)\n",
    "    #error()\n",
    "    e = g(p) - a2\n",
    "    s2 = (-2)*f2(1) * e\n",
    "    u = np.matrix([[f1(a1.item(0)),0],[0,f1(a1.item(1))]])\n",
    "    s1 = u * w2_0.T * s2\n",
    "    w2_1 = w2_0 - alpha*s2*a1.T\n",
    "    b2_1 = b2_0 - alpha*s2\n",
    "    w1_1 = w1_0 - alpha*s1*p\n",
    "    b1_1 = b1_0 - alpha*s1\n",
    "    salida = np.zeros((1,20))\n",
    "    contador = 0\n",
    "    p = -2\n",
    "    w1_0 = w1_1\n",
    "    b1_0 = b1_1\n",
    "    w2_0 = w2_1\n",
    "    b2_0 = b2_1\n",
    "    while(contador < 20):   \n",
    "        u = w1_0*p + b1_0\n",
    "        a1 = np.matrix([[logSigmoid(u[0])],[logSigmoid(u[1])]])\n",
    "        u = w2_0 * a1 + b2_0\n",
    "        a2 = purelin(u)\n",
    "        p = p + 0.2\n",
    "        salida.itemset(contador,a2)\n",
    "        if(contador < 20):\n",
    "            contador = contador + 1\n",
    "    p = randrange(-2,2, 1)\n",
    "    x = np.arange(-2, 2.0, 0.2)\n",
    "    pyplot.plot(salida[0,:], y, '-o')\n",
    "    pyplot.title('Iteracion '+str(2))\n",
    "    pyplot.show()"
   ]
  },
  {
   "cell_type": "markdown",
   "metadata": {},
   "source": [
    "# Inciso A\n",
    "## S = 2 y learning rate = 0.001"
   ]
  },
  {
   "cell_type": "code",
   "execution_count": 165,
   "metadata": {},
   "outputs": [
    {
     "data": {
      "image/png": "[encoded data removed]",
      "text/plain": [
       "<Figure size 432x288 with 1 Axes>"
      ]
     },
     "metadata": {
      "needs_background": "light"
     },
     "output_type": "display_data"
    },
    {
     "data": {
      "image/png": "[encoded data removed]",
      "text/plain": [
       "<Figure size 432x288 with 1 Axes>"
      ]
     },
     "metadata": {
      "needs_background": "light"
     },
     "output_type": "display_data"
    },
    {
     "data": {
      "image/png": "[encoded data removed]",
      "text/plain": [
       "<Figure size 432x288 with 1 Axes>"
      ]
     },
     "metadata": {
      "needs_background": "light"
     },
     "output_type": "display_data"
    }
   ],
   "source": [
    "alpha = 0.001\n",
    "main()"
   ]
  },
  {
   "cell_type": "markdown",
   "metadata": {},
   "source": [
    "## Inciso B\n",
    "## S = 2 y learning rate = 0.1"
   ]
  },
  {
   "cell_type": "code",
   "execution_count": 171,
   "metadata": {
    "scrolled": true
   },
   "outputs": [
    {
     "data": {
      "image/png": "[encoded data removed]",
      "text/plain": [
       "<Figure size 432x288 with 1 Axes>"
      ]
     },
     "metadata": {
      "needs_background": "light"
     },
     "output_type": "display_data"
    },
    {
     "data": {
      "image/png": "[encoded data removed]",
      "text/plain": [
       "<Figure size 432x288 with 1 Axes>"
      ]
     },
     "metadata": {
      "needs_background": "light"
     },
     "output_type": "display_data"
    },
    {
     "data": {
      "image/png": "[encoded data removed]",
      "text/plain": [
       "<Figure size 432x288 with 1 Axes>"
      ]
     },
     "metadata": {
      "needs_background": "light"
     },
     "output_type": "display_data"
    }
   ],
   "source": [
    "#Inciso B\n",
    "alpha = 0.1\n",
    "main()"
   ]
  },
  {
   "cell_type": "markdown",
   "metadata": {},
   "source": [
    "# Inciso C\n",
    "## S = 10 y learning rate = 0.0001\n",
    "Se inicializan las variables"
   ]
  },
  {
   "cell_type": "code",
   "execution_count": 172,
   "metadata": {},
   "outputs": [],
   "source": [
    "#INICIALIZANDO VALORES\n",
    "    alpha = 0.001\n",
    "    p = randrange(-2,2, 1)\n",
    "    #Capa 1\n",
    "    #Neurona 0\n",
    "    w1_0 = np.matrix([[aleatorio()],[aleatorio()]])\n",
    "    b1_0 = np.matrix([[aleatorio()],[aleatorio()]])\n",
    "    #Neurona 1\n",
    "    w1_1 = np.matrix([[aleatorio()],[aleatorio()]])\n",
    "    b1_1 = np.matrix([[aleatorio()],[aleatorio()]])\n",
    "    #Neurona 2\n",
    "    w1_2 = np.matrix([[aleatorio()],[aleatorio()]])\n",
    "    b1_2 = np.matrix([[aleatorio()],[aleatorio()]])\n",
    "    #Neurona 3\n",
    "    w1_3 = np.matrix([[aleatorio()],[aleatorio()]])\n",
    "    b1_3 = np.matrix([[aleatorio()],[aleatorio()]])\n",
    "    #Neurona 4\n",
    "    w1_4 = np.matrix([[aleatorio()],[aleatorio()]])\n",
    "    b1_4 = np.matrix([[aleatorio()],[aleatorio()]])\n",
    "    #Neurona 5\n",
    "    w1_5 = np.matrix([[aleatorio()],[aleatorio()]])\n",
    "    b1_5 = np.matrix([[aleatorio()],[aleatorio()]])\n",
    "    #Neurona 6\n",
    "    w1_6 = np.matrix([[aleatorio()],[aleatorio()]])\n",
    "    b1_6 = np.matrix([[aleatorio()],[aleatorio()]])\n",
    "    #Neurona 7\n",
    "    w1_7 = np.matrix([[aleatorio()],[aleatorio()]])\n",
    "    b1_7 = np.matrix([[aleatorio()],[aleatorio()]])\n",
    "    #Neurona 8\n",
    "    w1_8 = np.matrix([[aleatorio()],[aleatorio()]])\n",
    "    b1_8 = np.matrix([[aleatorio()],[aleatorio()]])\n",
    "    #Neurona 9\n",
    "    w1_9 = np.matrix([[aleatorio()],[aleatorio()]])\n",
    "    b1_9 = np.matrix([[aleatorio()],[aleatorio()]])\n",
    "    \n",
    "    #Capa 2\n",
    "    #Neurona 0\n",
    "    w2_0 = np.matrix([aleatorio(),aleatorio()])\n",
    "    b2_0 = aleatorio()\n",
    "    #Neurona 1\n",
    "    w2_1 = np.matrix([aleatorio(),aleatorio()])\n",
    "    b2_1 = aleatorio()\n",
    "    #Neurona 2\n",
    "    w2_2 = np.matrix([aleatorio(),aleatorio()])\n",
    "    b2_2 = aleatorio()\n",
    "    #Neurona 3\n",
    "    w2_3 = np.matrix([aleatorio(),aleatorio()])\n",
    "    b2_3 = aleatorio()\n",
    "    #Neurona 4\n",
    "    w2_4 = np.matrix([aleatorio(),aleatorio()])\n",
    "    b2_4 = aleatorio()\n",
    "    #Neurona 5\n",
    "    w2_5 = np.matrix([aleatorio(),aleatorio()])\n",
    "    b2_5 = aleatorio()\n",
    "    #Neurona 6\n",
    "    w2_6 = np.matrix([aleatorio(),aleatorio()])\n",
    "    b2_6 = aleatorio()\n",
    "    #Neurona 7\n",
    "    w2_7 = np.matrix([aleatorio(),aleatorio()])\n",
    "    b2_7 = aleatorio()\n",
    "    #Neurona 8\n",
    "    w2_8 = np.matrix([aleatorio(),aleatorio()])\n",
    "    b2_8 = aleatorio()\n",
    "    #Neurona 9\n",
    "    w2_9 = np.matrix([aleatorio(),aleatorio()])\n",
    "    b2_9 = aleatorio()\n",
    "    "
   ]
  },
  {
   "cell_type": "markdown",
   "metadata": {},
   "source": [
    "## Se genera el ForwardPropagation para cada una de las neuronas"
   ]
  },
  {
   "cell_type": "code",
   "execution_count": 173,
   "metadata": {},
   "outputs": [],
   "source": [
    "#ForwardPropagation\n",
    "    #forwardPropagation Neurona 0\n",
    "    u = w1_0*p + b1_0\n",
    "    a0 = np.matrix([[logSigmoid(u[0])],[logSigmoid(u[1])]])\n",
    "    u = w2_0 * a0 + b2_0\n",
    "    b0 = purelin(u)\n",
    "    #forwardPropagation Neurona 1\n",
    "    u = w1_1*p + b1_1\n",
    "    a1 = np.matrix([[logSigmoid(u[0])],[logSigmoid(u[1])]])\n",
    "    u = w2_1 * a1 + b2_1\n",
    "    b1 = purelin(u)\n",
    "    #forwardPropagation Neurona 2\n",
    "    u = w1_2*p + b1_2\n",
    "    a2 = np.matrix([[logSigmoid(u[0])],[logSigmoid(u[1])]])\n",
    "    u = w2_2 * a2 + b2_2\n",
    "    b2 = purelin(u)\n",
    "    #forwardPropagation Neurona 3\n",
    "    u = w1_3*p + b1_3\n",
    "    a3 = np.matrix([[logSigmoid(u[0])],[logSigmoid(u[1])]])\n",
    "    u = w2_3 * a3 + b2_3\n",
    "    b3 = purelin(u)\n",
    "     #forwardPropagation Neurona 4\n",
    "    u = w1_4*p + b1_4\n",
    "    a4 = np.matrix([[logSigmoid(u[0])],[logSigmoid(u[1])]])\n",
    "    u = w2_4 * a4 + b2_4\n",
    "    b4 = purelin(u)\n",
    "     #forwardPropagation Neurona 5\n",
    "    u = w1_5*p + b1_5\n",
    "    a5 = np.matrix([[logSigmoid(u[0])],[logSigmoid(u[1])]])\n",
    "    u = w2_5 * a5 + b2_5\n",
    "    b5 = purelin(u)\n",
    "     #forwardPropagation Neurona 6\n",
    "    u = w1_6*p + b1_6\n",
    "    a6 = np.matrix([[logSigmoid(u[0])],[logSigmoid(u[1])]])\n",
    "    u = w2_6 * a6 + b2_6\n",
    "    b6 = purelin(u)\n",
    "     #forwardPropagation Neurona 7\n",
    "    u = w1_7*p + b1_7\n",
    "    a7 = np.matrix([[logSigmoid(u[0])],[logSigmoid(u[1])]])\n",
    "    u = w2_7 * a7 + b2_7\n",
    "    b7 = purelin(u)\n",
    "     #forwardPropagation Neurona 8\n",
    "    u = w1_8*p + b1_8\n",
    "    a8 = np.matrix([[logSigmoid(u[0])],[logSigmoid(u[1])]])\n",
    "    u = w2_8 * a8 + b2_8\n",
    "    b8 = purelin(u)\n",
    "    #forwardPropagation Neurona 9\n",
    "    u = w1_9*p + b1_9\n",
    "    a9 = np.matrix([[logSigmoid(u[0])],[logSigmoid(u[1])]])\n",
    "    u = w2_9 * a9 + b2_9\n",
    "    b9 = purelin(u)"
   ]
  },
  {
   "cell_type": "markdown",
   "metadata": {},
   "source": [
    "## Calculamos el error de cada neurona"
   ]
  },
  {
   "cell_type": "code",
   "execution_count": 174,
   "metadata": {},
   "outputs": [],
   "source": [
    "# error\n",
    "    e0 = g(p) - b0\n",
    "    e1 = g(p) - b1\n",
    "    e2 = g(p) - b2\n",
    "    e3 = g(p) - b3\n",
    "    e4 = g(p) - b4\n",
    "    e5 = g(p) - b5\n",
    "    e6 = g(p) - b6\n",
    "    e7 = g(p) - b7\n",
    "    e8 = g(p) - b8\n",
    "    e9 = g(p) - b9"
   ]
  },
  {
   "cell_type": "markdown",
   "metadata": {},
   "source": [
    "## Se genera el BackPropagation en cada una de las neuronas"
   ]
  },
  {
   "cell_type": "code",
   "execution_count": 175,
   "metadata": {},
   "outputs": [],
   "source": [
    "#BackPropagation\n",
    "    s2_0 = (-2)*f2(1) * e0\n",
    "    u = np.matrix([[f1(a0.item(0)),0],[0,f1(a0.item(1))]])\n",
    "    s1_0 = u * w2_0.T * s2_0\n",
    "    s2_1 = (-2)*f2(1) * e1\n",
    "    u = np.matrix([[f1(a1.item(0)),0],[0,f1(a1.item(1))]])\n",
    "    s1_1= u * w2_1.T * s2_1\n",
    "    s2_2 = (-2)*f2(1) * e2\n",
    "    u = np.matrix([[f1(a2.item(0)),0],[0,f1(a2.item(1))]])\n",
    "    s1_2 = u * w2_2.T * s2_2\n",
    "    s2_3 = (-2)*f2(1) * e3\n",
    "    u = np.matrix([[f1(a3.item(0)),0],[0,f1(a3.item(1))]])\n",
    "    s1_3 = u * w2_3.T * s2_3\n",
    "    s2_4 = (-2)*f2(1) * e4\n",
    "    u = np.matrix([[f1(a4.item(0)),0],[0,f1(a4.item(1))]])\n",
    "    s1_4 = u * w2_4.T * s2_4\n",
    "    s2_5 = (-2)*f2(1) * e5\n",
    "    u = np.matrix([[f1(a5.item(0)),0],[0,f1(a5.item(1))]])\n",
    "    s1_5 = u * w2_5.T * s2_5\n",
    "    s2_6 = (-2)*f2(1) * e6\n",
    "    u = np.matrix([[f1(a6.item(0)),0],[0,f1(a6.item(1))]])\n",
    "    s1_6 = u * w2_6.T * s2_6\n",
    "    s2_7 = (-2)*f2(1) * e7\n",
    "    u = np.matrix([[f1(a7.item(0)),0],[0,f1(a7.item(1))]])\n",
    "    s1_7 = u * w2_7.T * s2_7\n",
    "    s2_8 = (-2)*f2(1) * e8\n",
    "    u = np.matrix([[f1(a8.item(0)),0],[0,f1(a8.item(1))]])\n",
    "    s1_8 = u * w2_8.T * s2_8\n",
    "    s2_9 = (-2)*f2(1) * e9\n",
    "    u = np.matrix([[f1(a9.item(0)),0],[0,f1(a9.item(1))]])\n",
    "    s1_9 = u * w2_9.T * s2_9"
   ]
  },
  {
   "cell_type": "markdown",
   "metadata": {},
   "source": [
    "## Se calculan los nuevos pesos"
   ]
  },
  {
   "cell_type": "code",
   "execution_count": 176,
   "metadata": {},
   "outputs": [],
   "source": [
    "    #newWeight()\n",
    "    w2_0 = w2_0 - alpha*s2_0*a0.T\n",
    "    b2_0 = b2_0 - alpha*s2_0\n",
    "    w1_0 = w1_0 - alpha*s1_0*p\n",
    "    b1_0 = b1_0 - alpha*s1_0\n",
    "\n",
    "    w2_1 = w2_1 - alpha*s2_1*a1.T\n",
    "    b2_1 = b2_1 - alpha*s2_1\n",
    "    w1_1 = w1_1 - alpha*s1_1*p\n",
    "    b1_1 = b1_1 - alpha*s1_1\n",
    "\n",
    "    w2_2 = w2_2 - alpha*s2_2*a2.T\n",
    "    b2_2 = b2_2 - alpha*s2_2\n",
    "    w1_2 = w1_2 - alpha*s1_2*p\n",
    "    b1_2 = b1_2 - alpha*s1_2\n",
    "\n",
    "    w2_3 = w2_3 - alpha*s2_3*a1.T\n",
    "    b2_3 = b2_3 - alpha*s2_3\n",
    "    w1_3 = w1_3 - alpha*s1_3*p\n",
    "    b1_3 = b1_3 - alpha*s1_3\n",
    "\n",
    "    w2_4 = w2_4 - alpha*s2_4*a4.T\n",
    "    b2_4 = b2_4 - alpha*s2_4\n",
    "    w1_4 = w1_4 - alpha*s1_4*p\n",
    "    b1_4 = b1_4 - alpha*s1_4\n",
    "\n",
    "    w2_5 = w2_5 - alpha*s2_5*a5.T\n",
    "    b2_5 = b2_5 - alpha*s2_5\n",
    "    w1_5 = w1_5 - alpha*s1_5*p\n",
    "    b1_5 = b1_5 - alpha*s1_5\n",
    "\n",
    "    w2_6 = w2_6 - alpha*s2_6*a6.T\n",
    "    b2_6 = b2_6 - alpha*s2_6\n",
    "    w1_6 = w1_6 - alpha*s1_6*p\n",
    "    b1_6 = b1_6 - alpha*s1_6\n",
    "\n",
    "    w2_7 = w2_7 - alpha*s2_7*a7.T\n",
    "    b2_7 = b2_7 - alpha*s2_7\n",
    "    w1_7 = w1_7 - alpha*s1_7*p\n",
    "    b1_7 = b1_7 - alpha*s1_7\n",
    "\n",
    "    w2_8= w2_8 - alpha*s2_8*a8.T\n",
    "    b2_8= b2_8 - alpha*s2_8\n",
    "    w1_8= w1_8 - alpha*s1_8*p\n",
    "    b1_8= b1_8 - alpha*s1_8\n",
    "\n",
    "    w2_9 = w2_9 - alpha*s2_9*a9.T\n",
    "    b2_9 = b2_9 - alpha*s2_9\n",
    "    w1_9 = w1_9 - alpha*s1_9*p\n",
    "    b1_9 = b1_9 - alpha*s1_9"
   ]
  },
  {
   "cell_type": "markdown",
   "metadata": {},
   "source": [
    "## Y se genera la salida única de la red neuronal"
   ]
  },
  {
   "cell_type": "code",
   "execution_count": 177,
   "metadata": {},
   "outputs": [],
   "source": [
    "#Evaluar en funcion\n",
    "    salida = np.zeros((1,20))\n",
    "    contador = 0\n",
    "    p = -2\n",
    "    while(contador < 20):   \n",
    "        #Forward Propagation\n",
    "        u = w1_0*p + b1_0\n",
    "        a0 = np.matrix([[logSigmoid(u[0])],[logSigmoid(u[1])]])\n",
    "        u = w1_1*p + b1_1\n",
    "        a1 = np.matrix([[logSigmoid(u[0])],[logSigmoid(u[1])]])\n",
    "        u = w1_2*p + b1_2\n",
    "        a2 = np.matrix([[logSigmoid(u[0])],[logSigmoid(u[1])]])\n",
    "        u = w1_3*p + b1_3\n",
    "        a3 = np.matrix([[logSigmoid(u[0])],[logSigmoid(u[1])]])\n",
    "        u = w1_4*p + b1_4\n",
    "        a4 = np.matrix([[logSigmoid(u[0])],[logSigmoid(u[1])]])\n",
    "        u = w1_5*p + b1_5\n",
    "        a5 = np.matrix([[logSigmoid(u[0])],[logSigmoid(u[1])]])\n",
    "        u = w1_6*p + b1_6\n",
    "        a6 = np.matrix([[logSigmoid(u[0])],[logSigmoid(u[1])]])\n",
    "        u = w1_7*p + b1_7\n",
    "        a7 = np.matrix([[logSigmoid(u[0])],[logSigmoid(u[1])]])\n",
    "        u = w1_8*p + b1_8\n",
    "        a8 = np.matrix([[logSigmoid(u[0])],[logSigmoid(u[1])]])\n",
    "        u = w1_9*p + b1_9\n",
    "        a9 = np.matrix([[logSigmoid(u[0])],[logSigmoid(u[1])]])\n",
    "        #Back propagation\n",
    "        u = w2_0 * a0 + b2_0\n",
    "        b0 = purelin(u)\n",
    "        u = w2_1 * a1 + b2_1\n",
    "        b1 = purelin(u)\n",
    "        u = w2_2 * a2 + b2_2\n",
    "        b2 = purelin(u)\n",
    "        u = w2_3 * a3 + b2_3\n",
    "        b3 = purelin(u)\n",
    "        u = w2_4 * a4 + b2_4\n",
    "        b4 = purelin(u)\n",
    "        u = w2_5 * a5 + b2_5\n",
    "        b5 = purelin(u)\n",
    "        u = w2_6 * a6 + b2_6\n",
    "        b6 = purelin(u)\n",
    "        u = w2_7 * a7 + b2_7\n",
    "        b7 = purelin(u)\n",
    "        u = w2_8 * a8 + b2_8\n",
    "        b8 = purelin(u)\n",
    "        u = w2_9 * a9 + b2_9\n",
    "        b9 = purelin(u)\n",
    "        #No supimos como tomar en cuenta las 10 salidas, así que decidimos tomar un promedio\n",
    "        prom = (b0+b1+b2+b3+b4+b5+b6+b7+b8+b9) / 10\n",
    "        p = p + 0.2\n",
    "        salida.itemset(contador,prom)\n",
    "        if(contador < 20):\n",
    "            contador = contador + 1"
   ]
  },
  {
   "cell_type": "markdown",
   "metadata": {},
   "source": [
    "## Gráfica deseada"
   ]
  },
  {
   "cell_type": "code",
   "execution_count": 178,
   "metadata": {},
   "outputs": [
    {
     "data": {
      "image/png": "[encoded data removed]",
      "text/plain": [
       "<Figure size 432x288 with 1 Axes>"
      ]
     },
     "metadata": {
      "needs_background": "light"
     },
     "output_type": "display_data"
    }
   ],
   "source": [
    "    x = np.arange(-2, 2.0, 0.2)\n",
    "    y =[g(i) for i in x ]\n",
    "    pyplot.plot(x, y,'-o')\n",
    "    pyplot.title('Original')\n",
    "    pyplot.show()"
   ]
  },
  {
   "cell_type": "markdown",
   "metadata": {},
   "source": [
    "## Gráfica obtenida con la primera iteración"
   ]
  },
  {
   "cell_type": "code",
   "execution_count": 179,
   "metadata": {},
   "outputs": [
    {
     "data": {
      "image/png": "[encoded data removed]",
      "text/plain": [
       "<Figure size 432x288 with 1 Axes>"
      ]
     },
     "metadata": {
      "needs_background": "light"
     },
     "output_type": "display_data"
    }
   ],
   "source": [
    "    x = np.arange(-2, 2.0, 0.2)\n",
    "    pyplot.plot(salida[0,:], y, '-o')\n",
    "    pyplot.title('Iteracion '+str(1))\n",
    "    pyplot.show()"
   ]
  },
  {
   "cell_type": "markdown",
   "metadata": {},
   "source": [
    "## Gráfica obtenida con la segunda iteración"
   ]
  },
  {
   "cell_type": "code",
   "execution_count": 214,
   "metadata": {},
   "outputs": [
    {
     "data": {
      "image/png": "[encoded data removed]",
      "text/plain": [
       "<Figure size 432x288 with 1 Axes>"
      ]
     },
     "metadata": {
      "needs_background": "light"
     },
     "output_type": "display_data"
    }
   ],
   "source": [
    "    u = w1_0*p + b1_0\n",
    "    a0 = np.matrix([[logSigmoid(u[0])],[logSigmoid(u[1])]])\n",
    "    u = w2_0 * a0 + b2_0\n",
    "    b0 = purelin(u)\n",
    "    #forwardPropagation Neurona 1\n",
    "    u = w1_1*p + b1_1\n",
    "    a1 = np.matrix([[logSigmoid(u[0])],[logSigmoid(u[1])]])\n",
    "    u = w2_1 * a1 + b2_1\n",
    "    b1 = purelin(u)\n",
    "    #forwardPropagation Neurona 2\n",
    "    u = w1_2*p + b1_2\n",
    "    a2 = np.matrix([[logSigmoid(u[0])],[logSigmoid(u[1])]])\n",
    "    u = w2_2 * a2 + b2_2\n",
    "    b2 = purelin(u)\n",
    "    #forwardPropagation Neurona 3\n",
    "    u = w1_3*p + b1_3\n",
    "    a3 = np.matrix([[logSigmoid(u[0])],[logSigmoid(u[1])]])\n",
    "    u = w2_3 * a3 + b2_3\n",
    "    b3 = purelin(u)\n",
    "     #forwardPropagation Neurona 4\n",
    "    u = w1_4*p + b1_4\n",
    "    a4 = np.matrix([[logSigmoid(u[0])],[logSigmoid(u[1])]])\n",
    "    u = w2_4 * a4 + b2_4\n",
    "    b4 = purelin(u)\n",
    "     #forwardPropagation Neurona 5\n",
    "    u = w1_5*p + b1_5\n",
    "    a5 = np.matrix([[logSigmoid(u[0])],[logSigmoid(u[1])]])\n",
    "    u = w2_5 * a5 + b2_5\n",
    "    b5 = purelin(u)\n",
    "     #forwardPropagation Neurona 6\n",
    "    u = w1_6*p + b1_6\n",
    "    a6 = np.matrix([[logSigmoid(u[0])],[logSigmoid(u[1])]])\n",
    "    u = w2_6 * a6 + b2_6\n",
    "    b6 = purelin(u)\n",
    "     #forwardPropagation Neurona 7\n",
    "    u = w1_7*p + b1_7\n",
    "    a7 = np.matrix([[logSigmoid(u[0])],[logSigmoid(u[1])]])\n",
    "    u = w2_7 * a7 + b2_7\n",
    "    b7 = purelin(u)\n",
    "     #forwardPropagation Neurona 8\n",
    "    u = w1_8*p + b1_8\n",
    "    a8 = np.matrix([[logSigmoid(u[0])],[logSigmoid(u[1])]])\n",
    "    u = w2_8 * a8 + b2_8\n",
    "    b8 = purelin(u)\n",
    "    #forwardPropagation Neurona 9\n",
    "    u = w1_9*p + b1_9\n",
    "    a9 = np.matrix([[logSigmoid(u[0])],[logSigmoid(u[1])]])\n",
    "    u = w2_9 * a9 + b2_9\n",
    "    b9 = purelin(u)\n",
    "    \n",
    "    e0 = g(p) - b0\n",
    "    e1 = g(p) - b1\n",
    "    e2 = g(p) - b2\n",
    "    e3 = g(p) - b3\n",
    "    e4 = g(p) - b4\n",
    "    e5 = g(p) - b5\n",
    "    e6 = g(p) - b6\n",
    "    e7 = g(p) - b7\n",
    "    e8 = g(p) - b8\n",
    "    e9 = g(p) - b9\n",
    "    \n",
    "    s2_0 = (-2)*f2(1) * e0\n",
    "    u = np.matrix([[f1(a0.item(0)),0],[0,f1(a0.item(1))]])\n",
    "    s1_0 = u * w2_0.T * s2_0\n",
    "    s2_1 = (-2)*f2(1) * e1\n",
    "    u = np.matrix([[f1(a1.item(0)),0],[0,f1(a1.item(1))]])\n",
    "    s1_1= u * w2_1.T * s2_1\n",
    "    s2_2 = (-2)*f2(1) * e2\n",
    "    u = np.matrix([[f1(a2.item(0)),0],[0,f1(a2.item(1))]])\n",
    "    s1_2 = u * w2_2.T * s2_2\n",
    "    s2_3 = (-2)*f2(1) * e3\n",
    "    u = np.matrix([[f1(a3.item(0)),0],[0,f1(a3.item(1))]])\n",
    "    s1_3 = u * w2_3.T * s2_3\n",
    "    s2_4 = (-2)*f2(1) * e4\n",
    "    u = np.matrix([[f1(a4.item(0)),0],[0,f1(a4.item(1))]])\n",
    "    s1_4 = u * w2_4.T * s2_4\n",
    "    s2_5 = (-2)*f2(1) * e5\n",
    "    u = np.matrix([[f1(a5.item(0)),0],[0,f1(a5.item(1))]])\n",
    "    s1_5 = u * w2_5.T * s2_5\n",
    "    s2_6 = (-2)*f2(1) * e6\n",
    "    u = np.matrix([[f1(a6.item(0)),0],[0,f1(a6.item(1))]])\n",
    "    s1_6 = u * w2_6.T * s2_6\n",
    "    s2_7 = (-2)*f2(1) * e7\n",
    "    u = np.matrix([[f1(a7.item(0)),0],[0,f1(a7.item(1))]])\n",
    "    s1_7 = u * w2_7.T * s2_7\n",
    "    s2_8 = (-2)*f2(1) * e8\n",
    "    u = np.matrix([[f1(a8.item(0)),0],[0,f1(a8.item(1))]])\n",
    "    s1_8 = u * w2_8.T * s2_8\n",
    "    s2_9 = (-2)*f2(1) * e9\n",
    "    u = np.matrix([[f1(a9.item(0)),0],[0,f1(a9.item(1))]])\n",
    "    s1_9 = u * w2_9.T * s2_9\n",
    "    \n",
    "    w2_0 = w2_0 - alpha*s2_0*a0.T\n",
    "    b2_0 = b2_0 - alpha*s2_0\n",
    "    w1_0 = w1_0 - alpha*s1_0*p\n",
    "    b1_0 = b1_0 - alpha*s1_0\n",
    "\n",
    "    w2_1 = w2_1 - alpha*s2_1*a1.T\n",
    "    b2_1 = b2_1 - alpha*s2_1\n",
    "    w1_1 = w1_1 - alpha*s1_1*p\n",
    "    b1_1 = b1_1 - alpha*s1_1\n",
    "\n",
    "    w2_2 = w2_2 - alpha*s2_2*a2.T\n",
    "    b2_2 = b2_2 - alpha*s2_2\n",
    "    w1_2 = w1_2 - alpha*s1_2*p\n",
    "    b1_2 = b1_2 - alpha*s1_2\n",
    "\n",
    "    w2_3 = w2_3 - alpha*s2_3*a1.T\n",
    "    b2_3 = b2_3 - alpha*s2_3\n",
    "    w1_3 = w1_3 - alpha*s1_3*p\n",
    "    b1_3 = b1_3 - alpha*s1_3\n",
    "\n",
    "    w2_4 = w2_4 - alpha*s2_4*a4.T\n",
    "    b2_4 = b2_4 - alpha*s2_4\n",
    "    w1_4 = w1_4 - alpha*s1_4*p\n",
    "    b1_4 = b1_4 - alpha*s1_4\n",
    "\n",
    "    w2_5 = w2_5 - alpha*s2_5*a5.T\n",
    "    b2_5 = b2_5 - alpha*s2_5\n",
    "    w1_5 = w1_5 - alpha*s1_5*p\n",
    "    b1_5 = b1_5 - alpha*s1_5\n",
    "\n",
    "    w2_6 = w2_6 - alpha*s2_6*a6.T\n",
    "    b2_6 = b2_6 - alpha*s2_6\n",
    "    w1_6 = w1_6 - alpha*s1_6*p\n",
    "    b1_6 = b1_6 - alpha*s1_6\n",
    "\n",
    "    w2_7 = w2_7 - alpha*s2_7*a7.T\n",
    "    b2_7 = b2_7 - alpha*s2_7\n",
    "    w1_7 = w1_7 - alpha*s1_7*p\n",
    "    b1_7 = b1_7 - alpha*s1_7\n",
    "\n",
    "    w2_8= w2_8 - alpha*s2_8*a8.T\n",
    "    b2_8= b2_8 - alpha*s2_8\n",
    "    w1_8= w1_8 - alpha*s1_8*p\n",
    "    b1_8= b1_8 - alpha*s1_8\n",
    "\n",
    "    w2_9 = w2_9 - alpha*s2_9*a9.T\n",
    "    b2_9 = b2_9 - alpha*s2_9\n",
    "    w1_9 = w1_9 - alpha*s1_9*p\n",
    "    b1_9 = b1_9 - alpha*s1_9\n",
    "    \n",
    "    salida = np.zeros((1,20))\n",
    "    contador = 0\n",
    "    p = -2\n",
    "    while(contador < 20):   \n",
    "        #Forward Propagation\n",
    "        u = w1_0*p + b1_0\n",
    "        a0 = np.matrix([[logSigmoid(u[0])],[logSigmoid(u[1])]])\n",
    "        u = w1_1*p + b1_1\n",
    "        a1 = np.matrix([[logSigmoid(u[0])],[logSigmoid(u[1])]])\n",
    "        u = w1_2*p + b1_2\n",
    "        a2 = np.matrix([[logSigmoid(u[0])],[logSigmoid(u[1])]])\n",
    "        u = w1_3*p + b1_3\n",
    "        a3 = np.matrix([[logSigmoid(u[0])],[logSigmoid(u[1])]])\n",
    "        u = w1_4*p + b1_4\n",
    "        a4 = np.matrix([[logSigmoid(u[0])],[logSigmoid(u[1])]])\n",
    "        u = w1_5*p + b1_5\n",
    "        a5 = np.matrix([[logSigmoid(u[0])],[logSigmoid(u[1])]])\n",
    "        u = w1_6*p + b1_6\n",
    "        a6 = np.matrix([[logSigmoid(u[0])],[logSigmoid(u[1])]])\n",
    "        u = w1_7*p + b1_7\n",
    "        a7 = np.matrix([[logSigmoid(u[0])],[logSigmoid(u[1])]])\n",
    "        u = w1_8*p + b1_8\n",
    "        a8 = np.matrix([[logSigmoid(u[0])],[logSigmoid(u[1])]])\n",
    "        u = w1_9*p + b1_9\n",
    "        a9 = np.matrix([[logSigmoid(u[0])],[logSigmoid(u[1])]])\n",
    "        #Back propagation\n",
    "        u = w2_0 * a0 + b2_0\n",
    "        b0 = purelin(u)\n",
    "        u = w2_1 * a1 + b2_1\n",
    "        b1 = purelin(u)\n",
    "        u = w2_2 * a2 + b2_2\n",
    "        b2 = purelin(u)\n",
    "        u = w2_3 * a3 + b2_3\n",
    "        b3 = purelin(u)\n",
    "        u = w2_4 * a4 + b2_4\n",
    "        b4 = purelin(u)\n",
    "        u = w2_5 * a5 + b2_5\n",
    "        b5 = purelin(u)\n",
    "        u = w2_6 * a6 + b2_6\n",
    "        b6 = purelin(u)\n",
    "        u = w2_7 * a7 + b2_7\n",
    "        b7 = purelin(u)\n",
    "        u = w2_8 * a8 + b2_8\n",
    "        b8 = purelin(u)\n",
    "        u = w2_9 * a9 + b2_9\n",
    "        b9 = purelin(u)\n",
    "        #No supimos como tomar en cuenta las 10 salidas, así que decidimos tomar un promedio\n",
    "        prom = (b0+b1+b2+b3+b4+b5+b6+b7+b8+b9) / 10\n",
    "        p = p + 0.2\n",
    "        salida.itemset(contador,prom)\n",
    "        if(contador < 20):\n",
    "            contador = contador + 1\n",
    "    x = np.arange(-2, 2.0, 0.2)\n",
    "    pyplot.plot(salida[0,:], y, '-o')\n",
    "    pyplot.title('Iteracion '+str(1))\n",
    "    pyplot.show()\n",
    "        "
   ]
  }
 ],
 "metadata": {
  "kernelspec": {
   "display_name": "Python 3",
   "language": "python",
   "name": "python3"
  },
  "language_info": {
   "codemirror_mode": {
    "name": "ipython",
    "version": 3
   },
   "file_extension": ".py",
   "mimetype": "text/x-python",
   "name": "python",
   "nbconvert_exporter": "python",
   "pygments_lexer": "ipython3",
   "version": "3.5.4"
  }
 },
 "nbformat": 4,
 "nbformat_minor": 2
}
