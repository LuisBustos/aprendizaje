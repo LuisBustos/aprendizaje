{
 "cells": [
  {
   "cell_type": "code",
   "execution_count": 18,
   "metadata": {},
   "outputs": [],
   "source": [
    "import numpy as np\n",
    "import math\n",
    "from matplotlib import pyplot\n",
    "from random import randrange\n",
    "#Este programa es la implementación de una red neuronal multicapa\n",
    "#Ejercicio 1"
   ]
  },
  {
   "cell_type": "code",
   "execution_count": 3,
   "metadata": {},
   "outputs": [],
   "source": [
    "def logSigmoid(a):\n",
    "    b = 1/(1+math.exp(-a))\n",
    "    return b"
   ]
  },
  {
   "cell_type": "code",
   "execution_count": 4,
   "metadata": {},
   "outputs": [],
   "source": [
    "def purelin(a):\n",
    "    if a < 0:\n",
    "        b = 0\n",
    "    else:\n",
    "        b = a\n",
    "    return b"
   ]
  },
  {
   "cell_type": "code",
   "execution_count": 5,
   "metadata": {},
   "outputs": [],
   "source": [
    "def g(x):\n",
    "    return 1+math.sin((math.pi/4)*x)"
   ]
  },
  {
   "cell_type": "code",
   "execution_count": 6,
   "metadata": {},
   "outputs": [],
   "source": [
    "#Primera derivada\n",
    "def f1(a):\n",
    "    return (1-a)*(a)"
   ]
  },
  {
   "cell_type": "code",
   "execution_count": 7,
   "metadata": {},
   "outputs": [],
   "source": [
    "#Segunda derivada\n",
    "def f2(x):\n",
    "    return 1"
   ]
  },
  {
   "cell_type": "code",
   "execution_count": 79,
   "metadata": {},
   "outputs": [],
   "source": [
    "#Condiciones iniciales\n",
    "p = randrange(-2,2, 1)\n",
    "w1_0 = np.matrix([[-0.27],[-0.41]])\n",
    "b1_0 = np.matrix([[-0.48],[-0.13]])\n",
    "w2_0 = np.matrix([0.09,-0.17])\n",
    "b2_0 = 0.48\n",
    "alpha = 0.1"
   ]
  },
  {
   "cell_type": "code",
   "execution_count": 80,
   "metadata": {},
   "outputs": [],
   "source": [
    "#Forward Propagation\n",
    "u = w1_0*p + b1_0\n",
    "a1 = np.matrix([[logSigmoid(u[0])],[logSigmoid(u[1])]])\n",
    "u = w2_0 * a1 + b2_0\n",
    "a2 = purelin(u)"
   ]
  },
  {
   "cell_type": "code",
   "execution_count": 81,
   "metadata": {},
   "outputs": [],
   "source": [
    "#Calculando error\n",
    "e = g(p) - a2"
   ]
  },
  {
   "cell_type": "code",
   "execution_count": 82,
   "metadata": {},
   "outputs": [],
   "source": [
    "#Back Propagation\n",
    "s2 = (-2)*f2(1) * e\n",
    "u = np.matrix([[f1(a1.item(0)),0],[0,f1(a1.item(1))]])\n",
    "s1 = u * w2_0.T * s2"
   ]
  },
  {
   "cell_type": "code",
   "execution_count": 87,
   "metadata": {},
   "outputs": [
    {
     "name": "stdout",
     "output_type": "stream",
     "text": [
      "[[ 0.17089989 -0.077156  ]]\n"
     ]
    }
   ],
   "source": [
    "#Calculando pesos y bias\n",
    "w2_1 = w2_0 - alpha*s2*a1.T\n",
    "b2_1 = b2_0 - alpha*s2\n",
    "w1_1 = w1_0 - alpha*s1*p\n",
    "b1_1 = b1_0 - alpha*s1\n",
    "\n",
    "print(w2_1)"
   ]
  },
  {
   "cell_type": "code",
   "execution_count": 88,
   "metadata": {},
   "outputs": [
    {
     "data": {
      "image/png": "[encoded data removed]",
      "text/plain": [
       "<Figure size 432x288 with 1 Axes>"
      ]
     },
     "metadata": {
      "needs_background": "light"
     },
     "output_type": "display_data"
    }
   ],
   "source": [
    "#Graficando función \n",
    "\n",
    "x = np.arange(-2, 2.0, 0.07)\n",
    "y =[g(i) for i in x ]\n",
    "pyplot.plot(x, y,'-o')\n",
    "pyplot.show()"
   ]
  },
  {
   "cell_type": "code",
   "execution_count": 78,
   "metadata": {},
   "outputs": [
    {
     "name": "stdout",
     "output_type": "stream",
     "text": [
      "1\n"
     ]
    }
   ],
   "source": [
    "print()"
   ]
  }
 ],
 "metadata": {
  "kernelspec": {
   "display_name": "Python 3",
   "language": "python",
   "name": "python3"
  },
  "language_info": {
   "codemirror_mode": {
    "name": "ipython",
    "version": 3
   },
   "file_extension": ".py",
   "mimetype": "text/x-python",
   "name": "python",
   "nbconvert_exporter": "python",
   "pygments_lexer": "ipython3",
   "version": "3.5.4"
  }
 },
 "nbformat": 4,
 "nbformat_minor": 2
}
